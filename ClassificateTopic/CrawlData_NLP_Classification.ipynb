{
  "nbformat": 4,
  "nbformat_minor": 0,
  "metadata": {
    "colab": {
      "provenance": []
    },
    "kernelspec": {
      "name": "python3",
      "display_name": "Python 3"
    },
    "language_info": {
      "name": "python"
    }
  },
  "cells": [
    {
      "cell_type": "markdown",
      "source": [
        "#Import library"
      ],
      "metadata": {
        "id": "lcMg9aL0CaMs"
      }
    },
    {
      "cell_type": "code",
      "source": [
        "!pip uninstall numpy\n",
        "!pip install numpy==1.26.4\n",
        "!pip uninstall -y spacy\n",
        "!pip install spacy==3.6.3\n",
        "!pip install https://gitlab.com/trungtv/vi_spacy/-/raw/master/packages/vi_core_news_lg-3.6.0/dist/vi_core_news_lg-3.6.0.tar.gz\n",
        "!pip install pyvi\n",
        "#!pip install -U spacy\n",
        "#!pip install --no-deps https://gitlab.com/trungtv/vi_spacy/-/raw/master/packages/vi_core_news_lg-3.6.0/dist/vi_core_news_lg-3.6.0.tar.gz\n",
        "!python -m spacy validate"
      ],
      "metadata": {
        "colab": {
          "base_uri": "https://localhost:8080/"
        },
        "id": "HYd2BlxPM3a7",
        "outputId": "88ae7bd3-6944-46e9-f3b7-26b97dec4f34"
      },
      "execution_count": null,
      "outputs": [
        {
          "output_type": "stream",
          "name": "stdout",
          "text": [
            "Found existing installation: numpy 1.26.4\n",
            "Uninstalling numpy-1.26.4:\n",
            "  Would remove:\n",
            "    /usr/local/bin/f2py\n",
            "    /usr/local/lib/python3.11/dist-packages/numpy-1.26.4.dist-info/*\n",
            "    /usr/local/lib/python3.11/dist-packages/numpy.libs/libgfortran-040039e1.so.5.0.0\n",
            "    /usr/local/lib/python3.11/dist-packages/numpy.libs/libopenblas64_p-r0-0cf96a72.3.23.dev.so\n",
            "    /usr/local/lib/python3.11/dist-packages/numpy.libs/libquadmath-96973f99.so.0.0.0\n",
            "    /usr/local/lib/python3.11/dist-packages/numpy/*\n",
            "Proceed (Y/n)? y\n",
            "  Successfully uninstalled numpy-1.26.4\n",
            "Collecting numpy==1.26.4\n",
            "  Using cached numpy-1.26.4-cp311-cp311-manylinux_2_17_x86_64.manylinux2014_x86_64.whl.metadata (61 kB)\n",
            "Using cached numpy-1.26.4-cp311-cp311-manylinux_2_17_x86_64.manylinux2014_x86_64.whl (18.3 MB)\n",
            "Installing collected packages: numpy\n",
            "Successfully installed numpy-1.26.4\n",
            "Found existing installation: spacy 3.6.1\n",
            "Uninstalling spacy-3.6.1:\n",
            "  Successfully uninstalled spacy-3.6.1\n",
            "\u001b[31mERROR: Ignored the following yanked versions: 3.6.0.dev0, 3.7.3, 3.7.6, 3.8.0, 3.8.1, 4.0.0.dev1, 4.0.0.dev2\u001b[0m\u001b[31m\n",
            "\u001b[0m\u001b[31mERROR: Could not find a version that satisfies the requirement spacy==3.6.3 (from versions: 0.31, 0.32, 0.33, 0.40, 0.51, 0.52, 0.60, 0.61, 0.62, 0.63, 0.64, 0.65, 0.67, 0.68, 0.70, 0.80, 0.81, 0.82, 0.83, 0.84, 0.85, 0.86, 0.87, 0.88, 0.89, 0.90, 0.91, 0.92, 0.93, 0.94, 0.95, 0.97, 0.98, 0.99, 0.100.0, 0.100.1, 0.100.2, 0.100.3, 0.100.4, 0.100.5, 0.100.6, 0.100.7, 0.101.0, 1.0.1, 1.0.2, 1.0.3, 1.0.4, 1.0.5, 1.1.0, 1.1.1, 1.1.2, 1.2.0, 1.3.0, 1.4.0, 1.5.0, 1.5.1, 1.6.0, 1.7.0, 1.7.1, 1.7.2, 1.7.3, 1.7.5, 1.8.0, 1.8.1, 1.8.2, 1.9.0, 1.10.0, 1.10.1, 2.0.0, 2.0.1.dev0, 2.0.1, 2.0.2.dev0, 2.0.2, 2.0.3.dev0, 2.0.3, 2.0.4.dev0, 2.0.4, 2.0.5.dev0, 2.0.5, 2.0.6.dev0, 2.0.6, 2.0.7, 2.0.8, 2.0.9, 2.0.10.dev0, 2.0.10, 2.0.11.dev0, 2.0.11, 2.0.12.dev0, 2.0.12.dev1, 2.0.12, 2.0.13.dev0, 2.0.13.dev1, 2.0.13.dev2, 2.0.13.dev4, 2.0.13, 2.0.14.dev0, 2.0.14.dev1, 2.0.15, 2.0.16.dev0, 2.0.16, 2.0.17.dev0, 2.0.17.dev1, 2.0.17, 2.0.18.dev0, 2.0.18.dev1, 2.0.18, 2.1.0, 2.1.1.dev0, 2.1.1, 2.1.2, 2.1.3, 2.1.4, 2.1.5, 2.1.6, 2.1.7.dev0, 2.1.7, 2.1.8, 2.1.9, 2.2.0.dev10, 2.2.0.dev11, 2.2.0.dev13, 2.2.0.dev15, 2.2.0.dev17, 2.2.0, 2.2.1, 2.2.2.dev0, 2.2.2.dev4, 2.2.2, 2.2.3.dev0, 2.2.3, 2.2.4, 2.3.0.dev1, 2.3.0, 2.3.1, 2.3.2, 2.3.3.dev0, 2.3.3, 2.3.4, 2.3.5, 2.3.6, 2.3.7, 2.3.8, 2.3.9, 3.0.0, 3.0.1, 3.0.2, 3.0.3, 3.0.4, 3.0.5, 3.0.6, 3.0.7, 3.0.8, 3.0.9, 3.1.0, 3.1.1, 3.1.2, 3.1.3, 3.1.4, 3.1.5, 3.1.6, 3.1.7, 3.2.0, 3.2.1, 3.2.2, 3.2.3, 3.2.4, 3.2.5, 3.2.6, 3.3.0, 3.3.1, 3.3.2, 3.3.3, 3.4.0, 3.4.1, 3.4.2, 3.4.3, 3.4.4, 3.5.0, 3.5.1, 3.5.2, 3.5.3, 3.5.4, 3.6.0, 3.6.1, 3.7.0, 3.7.1, 3.7.2, 3.7.4, 3.7.5, 3.8.2, 3.8.3, 3.8.4, 3.8.5, 4.0.0.dev3)\u001b[0m\u001b[31m\n",
            "\u001b[0m\u001b[31mERROR: No matching distribution found for spacy==3.6.3\u001b[0m\u001b[31m\n",
            "\u001b[0mCollecting https://gitlab.com/trungtv/vi_spacy/-/raw/master/packages/vi_core_news_lg-3.6.0/dist/vi_core_news_lg-3.6.0.tar.gz\n",
            "  Using cached https://gitlab.com/trungtv/vi_spacy/-/raw/master/packages/vi_core_news_lg-3.6.0/dist/vi_core_news_lg-3.6.0.tar.gz (233.3 MB)\n",
            "  Preparing metadata (setup.py) ... \u001b[?25l\u001b[?25hdone\n",
            "Collecting spacy<3.7.0,>=3.6.0 (from vi_core_news_lg==3.6.0)\n",
            "  Using cached spacy-3.6.1-cp311-cp311-manylinux_2_17_x86_64.manylinux2014_x86_64.whl.metadata (25 kB)\n",
            "Requirement already satisfied: spacy-legacy<3.1.0,>=3.0.11 in /usr/local/lib/python3.11/dist-packages (from spacy<3.7.0,>=3.6.0->vi_core_news_lg==3.6.0) (3.0.12)\n",
            "Requirement already satisfied: spacy-loggers<2.0.0,>=1.0.0 in /usr/local/lib/python3.11/dist-packages (from spacy<3.7.0,>=3.6.0->vi_core_news_lg==3.6.0) (1.0.5)\n",
            "Requirement already satisfied: murmurhash<1.1.0,>=0.28.0 in /usr/local/lib/python3.11/dist-packages (from spacy<3.7.0,>=3.6.0->vi_core_news_lg==3.6.0) (1.0.12)\n",
            "Requirement already satisfied: cymem<2.1.0,>=2.0.2 in /usr/local/lib/python3.11/dist-packages (from spacy<3.7.0,>=3.6.0->vi_core_news_lg==3.6.0) (2.0.11)\n",
            "Requirement already satisfied: preshed<3.1.0,>=3.0.2 in /usr/local/lib/python3.11/dist-packages (from spacy<3.7.0,>=3.6.0->vi_core_news_lg==3.6.0) (3.0.9)\n",
            "Requirement already satisfied: thinc<8.2.0,>=8.1.8 in /usr/local/lib/python3.11/dist-packages (from spacy<3.7.0,>=3.6.0->vi_core_news_lg==3.6.0) (8.1.12)\n",
            "Requirement already satisfied: wasabi<1.2.0,>=0.9.1 in /usr/local/lib/python3.11/dist-packages (from spacy<3.7.0,>=3.6.0->vi_core_news_lg==3.6.0) (1.1.3)\n",
            "Requirement already satisfied: srsly<3.0.0,>=2.4.3 in /usr/local/lib/python3.11/dist-packages (from spacy<3.7.0,>=3.6.0->vi_core_news_lg==3.6.0) (2.5.1)\n",
            "Requirement already satisfied: catalogue<2.1.0,>=2.0.6 in /usr/local/lib/python3.11/dist-packages (from spacy<3.7.0,>=3.6.0->vi_core_news_lg==3.6.0) (2.0.10)\n",
            "Requirement already satisfied: typer<0.10.0,>=0.3.0 in /usr/local/lib/python3.11/dist-packages (from spacy<3.7.0,>=3.6.0->vi_core_news_lg==3.6.0) (0.9.4)\n",
            "Requirement already satisfied: pathy>=0.10.0 in /usr/local/lib/python3.11/dist-packages (from spacy<3.7.0,>=3.6.0->vi_core_news_lg==3.6.0) (0.11.0)\n",
            "Requirement already satisfied: smart-open<7.0.0,>=5.2.1 in /usr/local/lib/python3.11/dist-packages (from spacy<3.7.0,>=3.6.0->vi_core_news_lg==3.6.0) (6.4.0)\n",
            "Requirement already satisfied: tqdm<5.0.0,>=4.38.0 in /usr/local/lib/python3.11/dist-packages (from spacy<3.7.0,>=3.6.0->vi_core_news_lg==3.6.0) (4.67.1)\n",
            "Requirement already satisfied: numpy>=1.15.0 in /usr/local/lib/python3.11/dist-packages (from spacy<3.7.0,>=3.6.0->vi_core_news_lg==3.6.0) (1.26.4)\n",
            "Requirement already satisfied: requests<3.0.0,>=2.13.0 in /usr/local/lib/python3.11/dist-packages (from spacy<3.7.0,>=3.6.0->vi_core_news_lg==3.6.0) (2.32.3)\n",
            "Requirement already satisfied: pydantic!=1.8,!=1.8.1,<3.0.0,>=1.7.4 in /usr/local/lib/python3.11/dist-packages (from spacy<3.7.0,>=3.6.0->vi_core_news_lg==3.6.0) (2.11.3)\n",
            "Requirement already satisfied: jinja2 in /usr/local/lib/python3.11/dist-packages (from spacy<3.7.0,>=3.6.0->vi_core_news_lg==3.6.0) (3.1.6)\n",
            "Requirement already satisfied: setuptools in /usr/local/lib/python3.11/dist-packages (from spacy<3.7.0,>=3.6.0->vi_core_news_lg==3.6.0) (75.2.0)\n",
            "Requirement already satisfied: packaging>=20.0 in /usr/local/lib/python3.11/dist-packages (from spacy<3.7.0,>=3.6.0->vi_core_news_lg==3.6.0) (24.2)\n",
            "Requirement already satisfied: langcodes<4.0.0,>=3.2.0 in /usr/local/lib/python3.11/dist-packages (from spacy<3.7.0,>=3.6.0->vi_core_news_lg==3.6.0) (3.5.0)\n",
            "Requirement already satisfied: language-data>=1.2 in /usr/local/lib/python3.11/dist-packages (from langcodes<4.0.0,>=3.2.0->spacy<3.7.0,>=3.6.0->vi_core_news_lg==3.6.0) (1.3.0)\n",
            "Requirement already satisfied: pathlib-abc==0.1.1 in /usr/local/lib/python3.11/dist-packages (from pathy>=0.10.0->spacy<3.7.0,>=3.6.0->vi_core_news_lg==3.6.0) (0.1.1)\n",
            "Requirement already satisfied: annotated-types>=0.6.0 in /usr/local/lib/python3.11/dist-packages (from pydantic!=1.8,!=1.8.1,<3.0.0,>=1.7.4->spacy<3.7.0,>=3.6.0->vi_core_news_lg==3.6.0) (0.7.0)\n",
            "Requirement already satisfied: pydantic-core==2.33.1 in /usr/local/lib/python3.11/dist-packages (from pydantic!=1.8,!=1.8.1,<3.0.0,>=1.7.4->spacy<3.7.0,>=3.6.0->vi_core_news_lg==3.6.0) (2.33.1)\n",
            "Requirement already satisfied: typing-extensions>=4.12.2 in /usr/local/lib/python3.11/dist-packages (from pydantic!=1.8,!=1.8.1,<3.0.0,>=1.7.4->spacy<3.7.0,>=3.6.0->vi_core_news_lg==3.6.0) (4.13.2)\n",
            "Requirement already satisfied: typing-inspection>=0.4.0 in /usr/local/lib/python3.11/dist-packages (from pydantic!=1.8,!=1.8.1,<3.0.0,>=1.7.4->spacy<3.7.0,>=3.6.0->vi_core_news_lg==3.6.0) (0.4.0)\n",
            "Requirement already satisfied: charset-normalizer<4,>=2 in /usr/local/lib/python3.11/dist-packages (from requests<3.0.0,>=2.13.0->spacy<3.7.0,>=3.6.0->vi_core_news_lg==3.6.0) (3.4.1)\n",
            "Requirement already satisfied: idna<4,>=2.5 in /usr/local/lib/python3.11/dist-packages (from requests<3.0.0,>=2.13.0->spacy<3.7.0,>=3.6.0->vi_core_news_lg==3.6.0) (3.10)\n",
            "Requirement already satisfied: urllib3<3,>=1.21.1 in /usr/local/lib/python3.11/dist-packages (from requests<3.0.0,>=2.13.0->spacy<3.7.0,>=3.6.0->vi_core_news_lg==3.6.0) (2.3.0)\n",
            "Requirement already satisfied: certifi>=2017.4.17 in /usr/local/lib/python3.11/dist-packages (from requests<3.0.0,>=2.13.0->spacy<3.7.0,>=3.6.0->vi_core_news_lg==3.6.0) (2025.1.31)\n",
            "Requirement already satisfied: blis<0.8.0,>=0.7.8 in /usr/local/lib/python3.11/dist-packages (from thinc<8.2.0,>=8.1.8->spacy<3.7.0,>=3.6.0->vi_core_news_lg==3.6.0) (0.7.11)\n",
            "Requirement already satisfied: confection<1.0.0,>=0.0.1 in /usr/local/lib/python3.11/dist-packages (from thinc<8.2.0,>=8.1.8->spacy<3.7.0,>=3.6.0->vi_core_news_lg==3.6.0) (0.1.5)\n",
            "Requirement already satisfied: click<9.0.0,>=7.1.1 in /usr/local/lib/python3.11/dist-packages (from typer<0.10.0,>=0.3.0->spacy<3.7.0,>=3.6.0->vi_core_news_lg==3.6.0) (8.1.8)\n",
            "Requirement already satisfied: MarkupSafe>=2.0 in /usr/local/lib/python3.11/dist-packages (from jinja2->spacy<3.7.0,>=3.6.0->vi_core_news_lg==3.6.0) (3.0.2)\n",
            "Requirement already satisfied: marisa-trie>=1.1.0 in /usr/local/lib/python3.11/dist-packages (from language-data>=1.2->langcodes<4.0.0,>=3.2.0->spacy<3.7.0,>=3.6.0->vi_core_news_lg==3.6.0) (1.2.1)\n",
            "Using cached spacy-3.6.1-cp311-cp311-manylinux_2_17_x86_64.manylinux2014_x86_64.whl (6.6 MB)\n",
            "Installing collected packages: spacy\n",
            "Successfully installed spacy-3.6.1\n",
            "Requirement already satisfied: pyvi in /usr/local/lib/python3.11/dist-packages (0.1.1)\n",
            "Requirement already satisfied: scikit-learn in /usr/local/lib/python3.11/dist-packages (from pyvi) (1.6.1)\n",
            "Requirement already satisfied: sklearn-crfsuite in /usr/local/lib/python3.11/dist-packages (from pyvi) (0.5.0)\n",
            "Requirement already satisfied: numpy>=1.19.5 in /usr/local/lib/python3.11/dist-packages (from scikit-learn->pyvi) (1.26.4)\n",
            "Requirement already satisfied: scipy>=1.6.0 in /usr/local/lib/python3.11/dist-packages (from scikit-learn->pyvi) (1.14.1)\n",
            "Requirement already satisfied: joblib>=1.2.0 in /usr/local/lib/python3.11/dist-packages (from scikit-learn->pyvi) (1.4.2)\n",
            "Requirement already satisfied: threadpoolctl>=3.1.0 in /usr/local/lib/python3.11/dist-packages (from scikit-learn->pyvi) (3.6.0)\n",
            "Requirement already satisfied: python-crfsuite>=0.9.7 in /usr/local/lib/python3.11/dist-packages (from sklearn-crfsuite->pyvi) (0.9.11)\n",
            "Requirement already satisfied: tabulate>=0.4.2 in /usr/local/lib/python3.11/dist-packages (from sklearn-crfsuite->pyvi) (0.9.0)\n",
            "Requirement already satisfied: tqdm>=2.0 in /usr/local/lib/python3.11/dist-packages (from sklearn-crfsuite->pyvi) (4.67.1)\n",
            "2025-04-28 15:55:24.372966: E external/local_xla/xla/stream_executor/cuda/cuda_fft.cc:477] Unable to register cuFFT factory: Attempting to register factory for plugin cuFFT when one has already been registered\n",
            "WARNING: All log messages before absl::InitializeLog() is called are written to STDERR\n",
            "E0000 00:00:1745855724.388031   18126 cuda_dnn.cc:8310] Unable to register cuDNN factory: Attempting to register factory for plugin cuDNN when one has already been registered\n",
            "E0000 00:00:1745855724.392400   18126 cuda_blas.cc:1418] Unable to register cuBLAS factory: Attempting to register factory for plugin cuBLAS when one has already been registered\n",
            "2025-04-28 15:55:24.407773: I tensorflow/core/platform/cpu_feature_guard.cc:210] This TensorFlow binary is optimized to use available CPU instructions in performance-critical operations.\n",
            "To enable the following instructions: AVX2 FMA, in other operations, rebuild TensorFlow with the appropriate compiler flags.\n",
            "2025-04-28 15:55:28.253677: E external/local_xla/xla/stream_executor/cuda/cuda_driver.cc:152] failed call to cuInit: INTERNAL: CUDA error: Failed call to cuInit: UNKNOWN ERROR (303)\n",
            "\u001b[2K\u001b[38;5;2m✔ Loaded compatibility table\u001b[0m\n",
            "\u001b[1m\n",
            "================= Installed pipeline packages (spaCy v3.6.1) =================\u001b[0m\n",
            "\u001b[38;5;4mℹ spaCy installation: /usr/local/lib/python3.11/dist-packages/spacy\u001b[0m\n",
            "\n",
            "NAME              SPACY            VERSION                            \n",
            "vi_core_news_lg   >=3.6.0,<3.7.0   \u001b[38;5;2m3.6.0\u001b[0m   \u001b[38;5;2m✔\u001b[0m\n",
            "en_core_web_sm    >=3.8.0,<3.9.0   \u001b[38;5;3m3.8.0\u001b[0m   --> 3.6.0     \n",
            "\n",
            "\u001b[1m\n",
            "============================== Install updates ==============================\u001b[0m\n",
            "Use the following commands to update the packages:\n",
            "python -m spacy download en_core_web_sm\n",
            "\n"
          ]
        }
      ]
    },
    {
      "cell_type": "code",
      "execution_count": null,
      "metadata": {
        "id": "VbkOPJshvVG_"
      },
      "outputs": [],
      "source": [
        "import requests\n",
        "from bs4 import BeautifulSoup\n",
        "import spacy\n",
        "nlp = spacy.load('vi_core_news_lg')\n",
        "from sklearn.feature_extraction.text import TfidfVectorizer\n",
        "from sklearn import svm\n",
        "from sklearn.cluster import KMeans\n",
        "from contextlib import nullcontext\n",
        "import pandas as pd"
      ]
    },
    {
      "cell_type": "markdown",
      "source": [
        "#Crawl data"
      ],
      "metadata": {
        "id": "-InSYascCe65"
      }
    },
    {
      "cell_type": "code",
      "source": [
        "def get_content(url, tage, attribute):\n",
        "  page = requests.get(url)\n",
        "  soup = BeautifulSoup(page.text, 'html.parser')\n",
        "  web_dev = soup.find_all(tage, class_ = attribute)\n",
        "  web_contents = [sen.text.strip() for sen in web_dev]\n",
        "  return web_contents"
      ],
      "metadata": {
        "id": "gbUV3iSFyw_0"
      },
      "execution_count": null,
      "outputs": []
    },
    {
      "cell_type": "code",
      "source": [
        "url = ['https://www.vinmec.com/vie/benh/benh-lao-phoi-3183',\n",
        "\n",
        "       'https://thuvienphapluat.vn/phap-luat-doanh-nghiep/bai-viet/quy-dinh-moi-ve-tien-dien-tu-co-hieu-luc-tu-ngay-01-7-2024-7969.html#:~:text=C%C4%83n%20c%E1%BB%A9%20kho%E1%BA%A3n%2012%20%C4%90i%E1%BB%81u%203%20Ngh%E1%BB%8B%20%C4%91%E1%BB%8Bnh,to%C3%A1n%20cung%20%E1%BB%A9ng%20d%E1%BB%8Bch%20v%E1%BB%A5%20v%C3%AD%20%C4%91i%E1%BB%87n%20t%E1%BB%AD.',\n",
        "\n",
        "       'https://rdsic.edu.vn/blog/toan/su-khac-nhau-giua-nguyen-phan-va-giam-phan-tong-quan-va-ung-dung-vi-cb.html']\n",
        "\n",
        "corpus = []\n",
        "\n",
        "content0 = get_content(url[0], 'div', 'item_detial_sick')\n",
        "corpus.append(content0[1])\n",
        "corpus.append(content0[4])\n",
        "\n",
        "content1 = get_content(url[1], 'p', nullcontext)\n",
        "corpus.append(content1[8])\n",
        "corpus.append(content1[9])\n",
        "\n",
        "content2 = get_content(url[2], 'p', nullcontext)\n",
        "corpus.append(content2[4])\n",
        "corpus.append(content2[5])\n",
        "\n",
        "for i in range(len(corpus)):\n",
        "  print(i)\n",
        "  print(corpus[i])\n",
        "  print('-----------------------------------------------------------------------')"
      ],
      "metadata": {
        "id": "eT2_KV52w4UE",
        "colab": {
          "base_uri": "https://localhost:8080/"
        },
        "outputId": "f2011122-4b66-4bda-a46b-c0261de666df"
      },
      "execution_count": null,
      "outputs": [
        {
          "output_type": "stream",
          "name": "stdout",
          "text": [
            "0\n",
            "Nguyên nhân bệnh Bệnh lao phổi\n",
            "\n",
            "Bệnh lao là bệnh truyền nhiễm do vi khuẩn Mycobacterium tuberculosis gây ra. Bệnh lây lan do vi khuẩn lao phát tán ra ngoài khi người mắc lao phổi ho, nói, hắt hơi, khạc nhổ mà vô tình người tiếp xúc gần đó có thể bị hít vào và gây bệnh tại phổi. Từ phổi, vi khuẩn lao có thể qua đường máu hay bạch huyết đến các tạng khác trong cơ thể và gây bệnh tại đó.\n",
            "Vi khuẩn lao có khả năng kháng lại cồn và axit mà ở nồng độ đó vi khuẩn khác bị tiêu diệt. Vi khuẩn lao tồn tại được nhiều tuần trong đờm, rác ẩm và tối, chết ở nhiệt độ 1000C/5 phút và dễ bị mất khả năng gây bệnh dưới ánh nắng mặt trời.\n",
            "-----------------------------------------------------------------------\n",
            "1\n",
            "Đối tượng nguy cơ bệnh Bệnh lao phổi\n",
            "\n",
            "Lao phổi là bệnh rất thường gặp, có thể ảnh hưởng mọi người trong mọi lứa tuổi.\n",
            "Những yếu tố làm tăng nguy cơ mắc lao phổi bao gồm:\n",
            "\n",
            "Suy giảm miễn dịch: nhiễm HIV, ung thư...\n",
            "Tiếp xúc trực tiếp với nguồn lây, đặc biệt trẻ em\n",
            "Bị các bệnh mạn tính: loét dạ dày tá tràng, đái tháo đường, suy thận mãn…\n",
            "Nghiện ma túy, rượu, thuốc lá\n",
            "Sử dụng các thuốc ức chế miễn dịch kéo dài như corticosteroid, hóa chất điều trị ung thư…\n",
            "-----------------------------------------------------------------------\n",
            "2\n",
            "- Tiền điện tử được lưu trữ bằng ví điện tử hoặc thẻ trả trước.\n",
            "-----------------------------------------------------------------------\n",
            "3\n",
            "- Ngân hàng, chi nhánh ngân hàng nước ngoài được phát hành, cung ứng ví điện tử, thẻ trả trước. Việc cung ứng, phát hành và sử dụng ví điện tử, thẻ trả trước thực hiện theo quy định của Ngân hàng Nhà nước.\n",
            "-----------------------------------------------------------------------\n",
            "4\n",
            "Nguyên phân là quá trình phân bào tạo ra hai tế bào con có bộ nhiễm sắc thể (NST) giống hệt tế bào mẹ. Nguyên phân xảy ra ở tế bào sinh dưỡng và tế bào sinh dục sơ khai. Các giai đoạn của nguyên phân bao gồm:\n",
            "-----------------------------------------------------------------------\n",
            "5\n",
            "Giảm phân là quá trình phân bào tạo ra bốn tế bào con có bộ NST giảm đi một nửa so với tế bào mẹ. Giảm phân xảy ra ở tế bào sinh dục chín. Các giai đoạn của giảm phân bao gồm hai lần phân bào liên tiếp:\n",
            "-----------------------------------------------------------------------\n"
          ]
        }
      ]
    },
    {
      "cell_type": "code",
      "source": [
        "for i in range(len(corpus)):\n",
        "  corpus[i] = corpus[i].split('.')[0]\n",
        "\n",
        "for _ in corpus:\n",
        "  print(_)\n",
        "  print('-------------------')"
      ],
      "metadata": {
        "colab": {
          "base_uri": "https://localhost:8080/"
        },
        "id": "WqL3yH0vcFn9",
        "outputId": "0ffa0593-1fe5-4103-f6dd-1ca348548516"
      },
      "execution_count": null,
      "outputs": [
        {
          "output_type": "stream",
          "name": "stdout",
          "text": [
            "Nguyên nhân bệnh Bệnh lao phổi\n",
            "\n",
            "Bệnh lao là bệnh truyền nhiễm do vi khuẩn Mycobacterium tuberculosis gây ra\n",
            "-------------------\n",
            "Đối tượng nguy cơ bệnh Bệnh lao phổi\n",
            "\n",
            "Lao phổi là bệnh rất thường gặp, có thể ảnh hưởng mọi người trong mọi lứa tuổi\n",
            "-------------------\n",
            "- Tiền điện tử được lưu trữ bằng ví điện tử hoặc thẻ trả trước\n",
            "-------------------\n",
            "- Ngân hàng, chi nhánh ngân hàng nước ngoài được phát hành, cung ứng ví điện tử, thẻ trả trước\n",
            "-------------------\n",
            "Nguyên phân là quá trình phân bào tạo ra hai tế bào con có bộ nhiễm sắc thể (NST) giống hệt tế bào mẹ\n",
            "-------------------\n",
            "Giảm phân là quá trình phân bào tạo ra bốn tế bào con có bộ NST giảm đi một nửa so với tế bào mẹ\n",
            "-------------------\n"
          ]
        }
      ]
    },
    {
      "cell_type": "markdown",
      "source": [
        "# Pre-processing"
      ],
      "metadata": {
        "id": "AVb6SUm2Qdxb"
      }
    },
    {
      "cell_type": "code",
      "source": [
        "print(spacy.__name__, spacy.__version__)"
      ],
      "metadata": {
        "colab": {
          "base_uri": "https://localhost:8080/"
        },
        "id": "40xvYba2sKs5",
        "outputId": "29f403b7-88e7-4de5-8033-2e48de35b091"
      },
      "execution_count": null,
      "outputs": [
        {
          "output_type": "stream",
          "name": "stdout",
          "text": [
            "spacy 3.6.1\n"
          ]
        }
      ]
    },
    {
      "cell_type": "markdown",
      "source": [
        "compare before and after pre-processing"
      ],
      "metadata": {
        "id": "tW54xmCd4CiR"
      }
    },
    {
      "cell_type": "code",
      "source": [
        "temp = [t.text for t in nlp(corpus[0])]\n",
        "print(temp)\n",
        "\n",
        "temp = [t.lower_ for t in nlp(corpus[0]) if not t.is_punct and not t.is_space]\n",
        "print(temp)\n",
        "\n",
        "print(len(temp))"
      ],
      "metadata": {
        "colab": {
          "base_uri": "https://localhost:8080/"
        },
        "id": "XS7PfCQ78IVQ",
        "outputId": "809bccc4-fcf7-428c-f6b1-2d1012bec3b8"
      },
      "execution_count": null,
      "outputs": [
        {
          "output_type": "stream",
          "name": "stdout",
          "text": [
            "['Nguyên nhân', 'bệnh', 'Bệnh', 'lao phổi', '\\n\\n', 'Bệnh', 'lao', 'là', 'bệnh', 'truyền nhiễm', 'do', 'vi khuẩn', 'Mycobacterium', 'tuberculosis', 'gây', 'ra']\n",
            "['nguyên nhân', 'bệnh', 'bệnh', 'lao phổi', 'bệnh', 'lao', 'là', 'bệnh', 'truyền nhiễm', 'do', 'vi khuẩn', 'mycobacterium', 'tuberculosis', 'gây', 'ra']\n",
            "15\n"
          ]
        }
      ]
    },
    {
      "cell_type": "markdown",
      "source": [
        "the corpus after pre-procesing look like"
      ],
      "metadata": {
        "id": "vJOtScKo4H5d"
      }
    },
    {
      "cell_type": "code",
      "source": [
        "num_token = 0\n",
        "\n",
        "pre_pro_corpus = []\n",
        "\n",
        "for i in corpus:\n",
        "  temp = [t.lower_ for t in nlp(i) if not t.is_punct and not t.is_space]\n",
        "  pre_pro_corpus.append(temp)\n",
        "  num_token += len(temp)\n",
        "  print(len(temp))\n",
        "  print(temp)\n",
        "\n",
        "df = pd.DataFrame(pre_pro_corpus)\n",
        "\n",
        "print('\\ntotal: ', num_token)"
      ],
      "metadata": {
        "colab": {
          "base_uri": "https://localhost:8080/"
        },
        "id": "bGo0VFpo4NvS",
        "outputId": "74a09ec8-8761-4483-f546-6fd4eeb943a9"
      },
      "execution_count": null,
      "outputs": [
        {
          "output_type": "stream",
          "name": "stdout",
          "text": [
            "15\n",
            "['nguyên nhân', 'bệnh', 'bệnh', 'lao phổi', 'bệnh', 'lao', 'là', 'bệnh', 'truyền nhiễm', 'do', 'vi khuẩn', 'mycobacterium', 'tuberculosis', 'gây', 'ra']\n",
            "19\n",
            "['đối tượng', 'nguy cơ', 'bệnh', 'bệnh', 'lao phổi', 'lao phổi', 'là', 'bệnh', 'rất', 'thường', 'gặp', 'có thể', 'ảnh hưởng', 'mọi', 'người', 'trong', 'mọi', 'lứa', 'tuổi']\n",
            "11\n",
            "['tiền', 'điện tử', 'được', 'lưu trữ', 'bằng', 'ví', 'điện tử', 'hoặc', 'thẻ', 'trả', 'trước']\n",
            "12\n",
            "['ngân hàng', 'chi nhánh', 'ngân hàng', 'nước ngoài', 'được', 'phát hành', 'cung ứng', 'ví', 'điện tử', 'thẻ', 'trả', 'trước']\n",
            "18\n",
            "['nguyên phân', 'là', 'quá trình', 'phân', 'bào', 'tạo', 'ra', 'hai', 'tế bào', 'con', 'có', 'bộ', 'nhiễm', 'sắc thể', 'nst', 'giống hệt', 'tế bào', 'mẹ']\n",
            "21\n",
            "['giảm phân', 'là', 'quá trình', 'phân', 'bào', 'tạo', 'ra', 'bốn', 'tế bào', 'con', 'có', 'bộ', 'nst', 'giảm', 'đi', 'một', 'nửa', 'so', 'với', 'tế bào', 'mẹ']\n",
            "\n",
            "total:  96\n"
          ]
        }
      ]
    },
    {
      "cell_type": "code",
      "source": [
        "unwanted_pipes = [\"parser\"]\n",
        "\n",
        "def custom_tokenizer(doc):\n",
        "    with nlp.disable_pipes(*unwanted_pipes):\n",
        "        return [t.lower_ for t in nlp(doc) if not t.is_punct and not t.is_space]"
      ],
      "metadata": {
        "id": "JEr2JAsEQh2I"
      },
      "execution_count": null,
      "outputs": []
    },
    {
      "cell_type": "markdown",
      "source": [
        "#Vectorizer"
      ],
      "metadata": {
        "id": "fjRoRAcH9ffn"
      }
    },
    {
      "cell_type": "code",
      "source": [
        "vectorizer = TfidfVectorizer(tokenizer = custom_tokenizer)\n",
        "\n",
        "x_train = vectorizer.fit_transform(corpus)\n",
        "\n",
        "print(x_train.shape)\n",
        "\n",
        "print('\\n', x_train)"
      ],
      "metadata": {
        "colab": {
          "base_uri": "https://localhost:8080/"
        },
        "id": "pvpb-Yme3_kc",
        "outputId": "227e8603-fbe8-4219-91d0-26f0ab320067"
      },
      "execution_count": null,
      "outputs": [
        {
          "output_type": "stream",
          "name": "stdout",
          "text": [
            "(6, 61)\n",
            "\n",
            " <Compressed Sparse Row sparse matrix of dtype 'float64'\n",
            "\twith 84 stored elements and shape (6, 61)>\n",
            "  Coords\tValues\n",
            "  (0, 28)\t0.22215393142137932\n",
            "  (0, 2)\t0.7286776068862983\n",
            "  (0, 18)\t0.1821694017215746\n",
            "  (0, 17)\t0.22215393142137932\n",
            "  (0, 19)\t0.13179485181223\n",
            "  (0, 46)\t0.22215393142137932\n",
            "  (0, 10)\t0.22215393142137932\n",
            "  (0, 53)\t0.22215393142137932\n",
            "  (0, 22)\t0.22215393142137932\n",
            "  (0, 49)\t0.22215393142137932\n",
            "  (0, 13)\t0.22215393142137932\n",
            "  (0, 38)\t0.15379992642018553\n",
            "  (1, 2)\t0.5011792531435386\n",
            "  (1, 18)\t0.3341195020956924\n",
            "  (1, 19)\t0.1208634102382922\n",
            "  (1, 59)\t0.2037278496104353\n",
            "  (1, 26)\t0.2037278496104353\n",
            "  (1, 39)\t0.2037278496104353\n",
            "  (1, 42)\t0.2037278496104353\n",
            "  (1, 14)\t0.2037278496104353\n",
            "  (1, 9)\t0.2037278496104353\n",
            "  (1, 60)\t0.2037278496104353\n",
            "  (1, 24)\t0.4074556992208706\n",
            "  (1, 30)\t0.2037278496104353\n",
            "  (1, 45)\t0.2037278496104353\n",
            "  :\t:\n",
            "  (4, 4)\t0.20132507317178566\n",
            "  (4, 31)\t0.24551409883404243\n",
            "  (4, 41)\t0.24551409883404243\n",
            "  (4, 32)\t0.20132507317178566\n",
            "  (4, 12)\t0.24551409883404243\n",
            "  (4, 23)\t0.20132507317178566\n",
            "  (5, 19)\t0.12767851923678045\n",
            "  (5, 38)\t0.1489963120261489\n",
            "  (5, 36)\t0.35295945391248584\n",
            "  (5, 37)\t0.17647972695624292\n",
            "  (5, 0)\t0.17647972695624292\n",
            "  (5, 51)\t0.17647972695624292\n",
            "  (5, 52)\t0.35295945391248584\n",
            "  (5, 6)\t0.17647972695624292\n",
            "  (5, 8)\t0.17647972695624292\n",
            "  (5, 4)\t0.17647972695624292\n",
            "  (5, 32)\t0.17647972695624292\n",
            "  (5, 23)\t0.17647972695624292\n",
            "  (5, 11)\t0.43043084940710713\n",
            "  (5, 3)\t0.21521542470355357\n",
            "  (5, 56)\t0.21521542470355357\n",
            "  (5, 25)\t0.21521542470355357\n",
            "  (5, 34)\t0.21521542470355357\n",
            "  (5, 40)\t0.21521542470355357\n",
            "  (5, 55)\t0.21521542470355357\n"
          ]
        },
        {
          "output_type": "stream",
          "name": "stderr",
          "text": [
            "/usr/local/lib/python3.11/dist-packages/sklearn/feature_extraction/text.py:517: UserWarning: The parameter 'token_pattern' will not be used since 'tokenizer' is not None'\n",
            "  warnings.warn(\n"
          ]
        }
      ]
    },
    {
      "cell_type": "code",
      "source": [
        "print(x_train.toarray())"
      ],
      "metadata": {
        "colab": {
          "base_uri": "https://localhost:8080/"
        },
        "id": "B6-tXUXJE5DT",
        "outputId": "4742d96d-dccb-4561-bc8b-cf746a57ff05"
      },
      "execution_count": null,
      "outputs": [
        {
          "output_type": "stream",
          "name": "stdout",
          "text": [
            "[[0.         0.         0.72867761 0.         0.         0.\n",
            "  0.         0.         0.         0.         0.22215393 0.\n",
            "  0.         0.22215393 0.         0.         0.         0.22215393\n",
            "  0.1821694  0.13179485 0.         0.         0.22215393 0.\n",
            "  0.         0.         0.         0.         0.22215393 0.\n",
            "  0.         0.         0.         0.         0.         0.\n",
            "  0.         0.         0.15379993 0.         0.         0.\n",
            "  0.         0.         0.         0.         0.22215393 0.\n",
            "  0.         0.22215393 0.         0.         0.         0.22215393\n",
            "  0.         0.         0.         0.         0.         0.\n",
            "  0.        ]\n",
            " [0.         0.         0.50117925 0.         0.         0.\n",
            "  0.         0.         0.         0.20372785 0.         0.\n",
            "  0.         0.         0.20372785 0.         0.         0.\n",
            "  0.3341195  0.12086341 0.         0.20372785 0.         0.\n",
            "  0.4074557  0.         0.20372785 0.         0.         0.\n",
            "  0.20372785 0.         0.         0.         0.         0.\n",
            "  0.         0.         0.         0.20372785 0.         0.\n",
            "  0.20372785 0.         0.         0.20372785 0.         0.\n",
            "  0.         0.         0.20372785 0.         0.         0.\n",
            "  0.         0.         0.         0.         0.         0.20372785\n",
            "  0.20372785]\n",
            " [0.         0.31541173 0.         0.         0.         0.\n",
            "  0.         0.         0.         0.         0.         0.\n",
            "  0.         0.         0.         0.         0.31541173 0.\n",
            "  0.         0.         0.31541173 0.         0.         0.\n",
            "  0.         0.         0.         0.         0.         0.\n",
            "  0.         0.         0.         0.         0.         0.\n",
            "  0.         0.         0.         0.         0.         0.\n",
            "  0.         0.25864213 0.31541173 0.         0.         0.25864213\n",
            "  0.25864213 0.         0.         0.         0.         0.\n",
            "  0.25864213 0.         0.         0.51728426 0.25864213 0.\n",
            "  0.        ]\n",
            " [0.         0.         0.         0.         0.         0.28826057\n",
            "  0.         0.28826057 0.         0.         0.         0.\n",
            "  0.         0.         0.         0.         0.         0.\n",
            "  0.         0.         0.         0.         0.         0.\n",
            "  0.         0.         0.         0.         0.         0.57652114\n",
            "  0.         0.         0.         0.28826057 0.         0.28826057\n",
            "  0.         0.         0.         0.         0.         0.\n",
            "  0.         0.23637779 0.         0.         0.         0.23637779\n",
            "  0.23637779 0.         0.         0.         0.         0.\n",
            "  0.23637779 0.         0.         0.23637779 0.23637779 0.\n",
            "  0.        ]\n",
            " [0.20132507 0.         0.         0.         0.20132507 0.\n",
            "  0.20132507 0.         0.20132507 0.         0.         0.\n",
            "  0.2455141  0.         0.         0.2455141  0.         0.\n",
            "  0.         0.14565348 0.         0.         0.         0.20132507\n",
            "  0.         0.         0.         0.2455141  0.         0.\n",
            "  0.         0.2455141  0.20132507 0.         0.         0.\n",
            "  0.40265015 0.20132507 0.16997246 0.         0.         0.2455141\n",
            "  0.         0.         0.         0.         0.         0.\n",
            "  0.         0.         0.         0.20132507 0.40265015 0.\n",
            "  0.         0.         0.         0.         0.         0.\n",
            "  0.        ]\n",
            " [0.17647973 0.         0.         0.21521542 0.17647973 0.\n",
            "  0.17647973 0.         0.17647973 0.         0.         0.43043085\n",
            "  0.         0.         0.         0.         0.         0.\n",
            "  0.         0.12767852 0.         0.         0.         0.17647973\n",
            "  0.         0.21521542 0.         0.         0.         0.\n",
            "  0.         0.         0.17647973 0.         0.21521542 0.\n",
            "  0.35295945 0.17647973 0.14899631 0.         0.21521542 0.\n",
            "  0.         0.         0.         0.         0.         0.\n",
            "  0.         0.         0.         0.17647973 0.35295945 0.\n",
            "  0.         0.21521542 0.21521542 0.         0.         0.\n",
            "  0.        ]]\n"
          ]
        }
      ]
    },
    {
      "cell_type": "code",
      "source": [
        "test = [\n",
        "    'Bệnh lao (còn gọi là TB) là một bệnh truyền nhiễm',\n",
        "    'Lao phổi rất nguy hiểm',\n",
        "    'mẹ lây bệnh sang con',\n",
        "    'mẹ mua thiết bị điện tử giúp trị bệnh cho con',\n",
        "    'Tiền điện tử rất tiện lợi',\n",
        "    'Tiền điện tử là tiền được lưu trên các phương tiện điện tử',\n",
        "    'Ví điện tử có thể do ngân hàng phát hành',\n",
        "    'Nguyên phân là gì',\n",
        "    'giảm phân sinh ra nhiều tế bào hơn nguyên phân',\n",
        "    'Đều là quá trình phân chia tế bào'\n",
        "]\n",
        "\n",
        "x_test = vectorizer.transform(test)\n",
        "\n",
        "print(x_test.shape)\n",
        "\n",
        "print('\\n', x_test)"
      ],
      "metadata": {
        "colab": {
          "base_uri": "https://localhost:8080/"
        },
        "id": "qDwa7aL9wk-J",
        "outputId": "e6248c26-7a7b-4141-e0e7-2014504250bc"
      },
      "execution_count": null,
      "outputs": [
        {
          "output_type": "stream",
          "name": "stdout",
          "text": [
            "(10, 61)\n",
            "\n",
            " <Compressed Sparse Row sparse matrix of dtype 'float64'\n",
            "\twith 38 stored elements and shape (10, 61)>\n",
            "  Coords\tValues\n",
            "  (0, 2)\t0.6155993138425042\n",
            "  (0, 17)\t0.37535888699748476\n",
            "  (0, 19)\t0.4453701860841903\n",
            "  (0, 25)\t0.37535888699748476\n",
            "  (0, 46)\t0.37535888699748476\n",
            "  (1, 18)\t0.6340862024337309\n",
            "  (1, 39)\t0.7732623667832087\n",
            "  (2, 2)\t0.5773502691896257\n",
            "  (2, 6)\t0.5773502691896257\n",
            "  (2, 23)\t0.5773502691896257\n",
            "  (3, 2)\t0.5\n",
            "  (3, 6)\t0.5\n",
            "  (3, 23)\t0.5\n",
            "  (3, 57)\t0.5\n",
            "  (4, 39)\t0.6117125098631682\n",
            "  (4, 44)\t0.6117125098631682\n",
            "  (4, 57)\t0.501613008756558\n",
            "  (5, 19)\t0.2136006403948891\n",
            "  (5, 44)\t0.7200921942756119\n",
            "  (5, 57)\t0.5904859003676398\n",
            "  (5, 58)\t0.2952429501838199\n",
            "  (6, 9)\t0.43254606386088906\n",
            "  (6, 10)\t0.43254606386088906\n",
            "  (6, 29)\t0.43254606386088906\n",
            "  (6, 35)\t0.43254606386088906\n",
            "  (6, 54)\t0.35469396002314924\n",
            "  (6, 57)\t0.35469396002314924\n",
            "  (7, 19)\t0.4169638817420929\n",
            "  (7, 27)\t0.702835993333765\n",
            "  (7, 36)\t0.5763355687419489\n",
            "  (8, 11)\t0.41375286502959013\n",
            "  (8, 27)\t0.41375286502959013\n",
            "  (8, 36)\t0.6785665362820961\n",
            "  (8, 38)\t0.28644624828623627\n",
            "  (8, 52)\t0.33928326814104803\n",
            "  (9, 19)\t0.45543739639154\n",
            "  (9, 37)\t0.6295144072887034\n",
            "  (9, 52)\t0.6295144072887034\n"
          ]
        }
      ]
    },
    {
      "cell_type": "code",
      "source": [
        "print(x_test.toarray())"
      ],
      "metadata": {
        "colab": {
          "base_uri": "https://localhost:8080/"
        },
        "id": "CZd6alCyGpy1",
        "outputId": "13fe5c66-4f72-478e-bea2-61ae30c5a7d0"
      },
      "execution_count": null,
      "outputs": [
        {
          "output_type": "stream",
          "name": "stdout",
          "text": [
            "[[0.         0.         0.61559931 0.         0.         0.\n",
            "  0.         0.         0.         0.         0.         0.\n",
            "  0.         0.         0.         0.         0.         0.37535889\n",
            "  0.         0.44537019 0.         0.         0.         0.\n",
            "  0.         0.37535889 0.         0.         0.         0.\n",
            "  0.         0.         0.         0.         0.         0.\n",
            "  0.         0.         0.         0.         0.         0.\n",
            "  0.         0.         0.         0.         0.37535889 0.\n",
            "  0.         0.         0.         0.         0.         0.\n",
            "  0.         0.         0.         0.         0.         0.\n",
            "  0.        ]\n",
            " [0.         0.         0.         0.         0.         0.\n",
            "  0.         0.         0.         0.         0.         0.\n",
            "  0.         0.         0.         0.         0.         0.\n",
            "  0.6340862  0.         0.         0.         0.         0.\n",
            "  0.         0.         0.         0.         0.         0.\n",
            "  0.         0.         0.         0.         0.         0.\n",
            "  0.         0.         0.         0.77326237 0.         0.\n",
            "  0.         0.         0.         0.         0.         0.\n",
            "  0.         0.         0.         0.         0.         0.\n",
            "  0.         0.         0.         0.         0.         0.\n",
            "  0.        ]\n",
            " [0.         0.         0.57735027 0.         0.         0.\n",
            "  0.57735027 0.         0.         0.         0.         0.\n",
            "  0.         0.         0.         0.         0.         0.\n",
            "  0.         0.         0.         0.         0.         0.57735027\n",
            "  0.         0.         0.         0.         0.         0.\n",
            "  0.         0.         0.         0.         0.         0.\n",
            "  0.         0.         0.         0.         0.         0.\n",
            "  0.         0.         0.         0.         0.         0.\n",
            "  0.         0.         0.         0.         0.         0.\n",
            "  0.         0.         0.         0.         0.         0.\n",
            "  0.        ]\n",
            " [0.         0.         0.5        0.         0.         0.\n",
            "  0.5        0.         0.         0.         0.         0.\n",
            "  0.         0.         0.         0.         0.         0.\n",
            "  0.         0.         0.         0.         0.         0.5\n",
            "  0.         0.         0.         0.         0.         0.\n",
            "  0.         0.         0.         0.         0.         0.\n",
            "  0.         0.         0.         0.         0.         0.\n",
            "  0.         0.         0.         0.         0.         0.\n",
            "  0.         0.         0.         0.         0.         0.\n",
            "  0.         0.         0.         0.5        0.         0.\n",
            "  0.        ]\n",
            " [0.         0.         0.         0.         0.         0.\n",
            "  0.         0.         0.         0.         0.         0.\n",
            "  0.         0.         0.         0.         0.         0.\n",
            "  0.         0.         0.         0.         0.         0.\n",
            "  0.         0.         0.         0.         0.         0.\n",
            "  0.         0.         0.         0.         0.         0.\n",
            "  0.         0.         0.         0.61171251 0.         0.\n",
            "  0.         0.         0.61171251 0.         0.         0.\n",
            "  0.         0.         0.         0.         0.         0.\n",
            "  0.         0.         0.         0.50161301 0.         0.\n",
            "  0.        ]\n",
            " [0.         0.         0.         0.         0.         0.\n",
            "  0.         0.         0.         0.         0.         0.\n",
            "  0.         0.         0.         0.         0.         0.\n",
            "  0.         0.21360064 0.         0.         0.         0.\n",
            "  0.         0.         0.         0.         0.         0.\n",
            "  0.         0.         0.         0.         0.         0.\n",
            "  0.         0.         0.         0.         0.         0.\n",
            "  0.         0.         0.72009219 0.         0.         0.\n",
            "  0.         0.         0.         0.         0.         0.\n",
            "  0.         0.         0.         0.5904859  0.29524295 0.\n",
            "  0.        ]\n",
            " [0.         0.         0.         0.         0.         0.\n",
            "  0.         0.         0.         0.43254606 0.43254606 0.\n",
            "  0.         0.         0.         0.         0.         0.\n",
            "  0.         0.         0.         0.         0.         0.\n",
            "  0.         0.         0.         0.         0.         0.43254606\n",
            "  0.         0.         0.         0.         0.         0.43254606\n",
            "  0.         0.         0.         0.         0.         0.\n",
            "  0.         0.         0.         0.         0.         0.\n",
            "  0.         0.         0.         0.         0.         0.\n",
            "  0.35469396 0.         0.         0.35469396 0.         0.\n",
            "  0.        ]\n",
            " [0.         0.         0.         0.         0.         0.\n",
            "  0.         0.         0.         0.         0.         0.\n",
            "  0.         0.         0.         0.         0.         0.\n",
            "  0.         0.41696388 0.         0.         0.         0.\n",
            "  0.         0.         0.         0.70283599 0.         0.\n",
            "  0.         0.         0.         0.         0.         0.\n",
            "  0.57633557 0.         0.         0.         0.         0.\n",
            "  0.         0.         0.         0.         0.         0.\n",
            "  0.         0.         0.         0.         0.         0.\n",
            "  0.         0.         0.         0.         0.         0.\n",
            "  0.        ]\n",
            " [0.         0.         0.         0.         0.         0.\n",
            "  0.         0.         0.         0.         0.         0.41375287\n",
            "  0.         0.         0.         0.         0.         0.\n",
            "  0.         0.         0.         0.         0.         0.\n",
            "  0.         0.         0.         0.41375287 0.         0.\n",
            "  0.         0.         0.         0.         0.         0.\n",
            "  0.67856654 0.         0.28644625 0.         0.         0.\n",
            "  0.         0.         0.         0.         0.         0.\n",
            "  0.         0.         0.         0.         0.33928327 0.\n",
            "  0.         0.         0.         0.         0.         0.\n",
            "  0.        ]\n",
            " [0.         0.         0.         0.         0.         0.\n",
            "  0.         0.         0.         0.         0.         0.\n",
            "  0.         0.         0.         0.         0.         0.\n",
            "  0.         0.4554374  0.         0.         0.         0.\n",
            "  0.         0.         0.         0.         0.         0.\n",
            "  0.         0.         0.         0.         0.         0.\n",
            "  0.         0.62951441 0.         0.         0.         0.\n",
            "  0.         0.         0.         0.         0.         0.\n",
            "  0.         0.         0.         0.         0.62951441 0.\n",
            "  0.         0.         0.         0.         0.         0.\n",
            "  0.        ]]\n"
          ]
        }
      ]
    },
    {
      "cell_type": "markdown",
      "source": [
        "# Classification with SVM"
      ],
      "metadata": {
        "id": "OHD5cCiLA1Lh"
      }
    },
    {
      "cell_type": "markdown",
      "source": [
        "###Training"
      ],
      "metadata": {
        "id": "0oVMXx_MBUPt"
      }
    },
    {
      "cell_type": "code",
      "source": [
        "y_train = [\n",
        "    'Lao phoi',\n",
        "    'Lao phoi',\n",
        "    'Tien dien tu',\n",
        "    'Tien dien tu',\n",
        "    'Phan chia te bao',\n",
        "    'Phan chia te bao',\n",
        "]\n",
        "\n",
        "clf = svm.SVC(kernel = 'linear')\n",
        "clf.fit(x_train, y_train)"
      ],
      "metadata": {
        "colab": {
          "base_uri": "https://localhost:8080/",
          "height": 80
        },
        "id": "-fUUPDE9_lgr",
        "outputId": "04dff381-8130-4638-8338-2b53ad7978c3"
      },
      "execution_count": null,
      "outputs": [
        {
          "output_type": "execute_result",
          "data": {
            "text/plain": [
              "SVC(kernel='linear')"
            ],
            "text/html": [
              "<style>#sk-container-id-3 {\n",
              "  /* Definition of color scheme common for light and dark mode */\n",
              "  --sklearn-color-text: #000;\n",
              "  --sklearn-color-text-muted: #666;\n",
              "  --sklearn-color-line: gray;\n",
              "  /* Definition of color scheme for unfitted estimators */\n",
              "  --sklearn-color-unfitted-level-0: #fff5e6;\n",
              "  --sklearn-color-unfitted-level-1: #f6e4d2;\n",
              "  --sklearn-color-unfitted-level-2: #ffe0b3;\n",
              "  --sklearn-color-unfitted-level-3: chocolate;\n",
              "  /* Definition of color scheme for fitted estimators */\n",
              "  --sklearn-color-fitted-level-0: #f0f8ff;\n",
              "  --sklearn-color-fitted-level-1: #d4ebff;\n",
              "  --sklearn-color-fitted-level-2: #b3dbfd;\n",
              "  --sklearn-color-fitted-level-3: cornflowerblue;\n",
              "\n",
              "  /* Specific color for light theme */\n",
              "  --sklearn-color-text-on-default-background: var(--sg-text-color, var(--theme-code-foreground, var(--jp-content-font-color1, black)));\n",
              "  --sklearn-color-background: var(--sg-background-color, var(--theme-background, var(--jp-layout-color0, white)));\n",
              "  --sklearn-color-border-box: var(--sg-text-color, var(--theme-code-foreground, var(--jp-content-font-color1, black)));\n",
              "  --sklearn-color-icon: #696969;\n",
              "\n",
              "  @media (prefers-color-scheme: dark) {\n",
              "    /* Redefinition of color scheme for dark theme */\n",
              "    --sklearn-color-text-on-default-background: var(--sg-text-color, var(--theme-code-foreground, var(--jp-content-font-color1, white)));\n",
              "    --sklearn-color-background: var(--sg-background-color, var(--theme-background, var(--jp-layout-color0, #111)));\n",
              "    --sklearn-color-border-box: var(--sg-text-color, var(--theme-code-foreground, var(--jp-content-font-color1, white)));\n",
              "    --sklearn-color-icon: #878787;\n",
              "  }\n",
              "}\n",
              "\n",
              "#sk-container-id-3 {\n",
              "  color: var(--sklearn-color-text);\n",
              "}\n",
              "\n",
              "#sk-container-id-3 pre {\n",
              "  padding: 0;\n",
              "}\n",
              "\n",
              "#sk-container-id-3 input.sk-hidden--visually {\n",
              "  border: 0;\n",
              "  clip: rect(1px 1px 1px 1px);\n",
              "  clip: rect(1px, 1px, 1px, 1px);\n",
              "  height: 1px;\n",
              "  margin: -1px;\n",
              "  overflow: hidden;\n",
              "  padding: 0;\n",
              "  position: absolute;\n",
              "  width: 1px;\n",
              "}\n",
              "\n",
              "#sk-container-id-3 div.sk-dashed-wrapped {\n",
              "  border: 1px dashed var(--sklearn-color-line);\n",
              "  margin: 0 0.4em 0.5em 0.4em;\n",
              "  box-sizing: border-box;\n",
              "  padding-bottom: 0.4em;\n",
              "  background-color: var(--sklearn-color-background);\n",
              "}\n",
              "\n",
              "#sk-container-id-3 div.sk-container {\n",
              "  /* jupyter's `normalize.less` sets `[hidden] { display: none; }`\n",
              "     but bootstrap.min.css set `[hidden] { display: none !important; }`\n",
              "     so we also need the `!important` here to be able to override the\n",
              "     default hidden behavior on the sphinx rendered scikit-learn.org.\n",
              "     See: https://github.com/scikit-learn/scikit-learn/issues/21755 */\n",
              "  display: inline-block !important;\n",
              "  position: relative;\n",
              "}\n",
              "\n",
              "#sk-container-id-3 div.sk-text-repr-fallback {\n",
              "  display: none;\n",
              "}\n",
              "\n",
              "div.sk-parallel-item,\n",
              "div.sk-serial,\n",
              "div.sk-item {\n",
              "  /* draw centered vertical line to link estimators */\n",
              "  background-image: linear-gradient(var(--sklearn-color-text-on-default-background), var(--sklearn-color-text-on-default-background));\n",
              "  background-size: 2px 100%;\n",
              "  background-repeat: no-repeat;\n",
              "  background-position: center center;\n",
              "}\n",
              "\n",
              "/* Parallel-specific style estimator block */\n",
              "\n",
              "#sk-container-id-3 div.sk-parallel-item::after {\n",
              "  content: \"\";\n",
              "  width: 100%;\n",
              "  border-bottom: 2px solid var(--sklearn-color-text-on-default-background);\n",
              "  flex-grow: 1;\n",
              "}\n",
              "\n",
              "#sk-container-id-3 div.sk-parallel {\n",
              "  display: flex;\n",
              "  align-items: stretch;\n",
              "  justify-content: center;\n",
              "  background-color: var(--sklearn-color-background);\n",
              "  position: relative;\n",
              "}\n",
              "\n",
              "#sk-container-id-3 div.sk-parallel-item {\n",
              "  display: flex;\n",
              "  flex-direction: column;\n",
              "}\n",
              "\n",
              "#sk-container-id-3 div.sk-parallel-item:first-child::after {\n",
              "  align-self: flex-end;\n",
              "  width: 50%;\n",
              "}\n",
              "\n",
              "#sk-container-id-3 div.sk-parallel-item:last-child::after {\n",
              "  align-self: flex-start;\n",
              "  width: 50%;\n",
              "}\n",
              "\n",
              "#sk-container-id-3 div.sk-parallel-item:only-child::after {\n",
              "  width: 0;\n",
              "}\n",
              "\n",
              "/* Serial-specific style estimator block */\n",
              "\n",
              "#sk-container-id-3 div.sk-serial {\n",
              "  display: flex;\n",
              "  flex-direction: column;\n",
              "  align-items: center;\n",
              "  background-color: var(--sklearn-color-background);\n",
              "  padding-right: 1em;\n",
              "  padding-left: 1em;\n",
              "}\n",
              "\n",
              "\n",
              "/* Toggleable style: style used for estimator/Pipeline/ColumnTransformer box that is\n",
              "clickable and can be expanded/collapsed.\n",
              "- Pipeline and ColumnTransformer use this feature and define the default style\n",
              "- Estimators will overwrite some part of the style using the `sk-estimator` class\n",
              "*/\n",
              "\n",
              "/* Pipeline and ColumnTransformer style (default) */\n",
              "\n",
              "#sk-container-id-3 div.sk-toggleable {\n",
              "  /* Default theme specific background. It is overwritten whether we have a\n",
              "  specific estimator or a Pipeline/ColumnTransformer */\n",
              "  background-color: var(--sklearn-color-background);\n",
              "}\n",
              "\n",
              "/* Toggleable label */\n",
              "#sk-container-id-3 label.sk-toggleable__label {\n",
              "  cursor: pointer;\n",
              "  display: flex;\n",
              "  width: 100%;\n",
              "  margin-bottom: 0;\n",
              "  padding: 0.5em;\n",
              "  box-sizing: border-box;\n",
              "  text-align: center;\n",
              "  align-items: start;\n",
              "  justify-content: space-between;\n",
              "  gap: 0.5em;\n",
              "}\n",
              "\n",
              "#sk-container-id-3 label.sk-toggleable__label .caption {\n",
              "  font-size: 0.6rem;\n",
              "  font-weight: lighter;\n",
              "  color: var(--sklearn-color-text-muted);\n",
              "}\n",
              "\n",
              "#sk-container-id-3 label.sk-toggleable__label-arrow:before {\n",
              "  /* Arrow on the left of the label */\n",
              "  content: \"▸\";\n",
              "  float: left;\n",
              "  margin-right: 0.25em;\n",
              "  color: var(--sklearn-color-icon);\n",
              "}\n",
              "\n",
              "#sk-container-id-3 label.sk-toggleable__label-arrow:hover:before {\n",
              "  color: var(--sklearn-color-text);\n",
              "}\n",
              "\n",
              "/* Toggleable content - dropdown */\n",
              "\n",
              "#sk-container-id-3 div.sk-toggleable__content {\n",
              "  max-height: 0;\n",
              "  max-width: 0;\n",
              "  overflow: hidden;\n",
              "  text-align: left;\n",
              "  /* unfitted */\n",
              "  background-color: var(--sklearn-color-unfitted-level-0);\n",
              "}\n",
              "\n",
              "#sk-container-id-3 div.sk-toggleable__content.fitted {\n",
              "  /* fitted */\n",
              "  background-color: var(--sklearn-color-fitted-level-0);\n",
              "}\n",
              "\n",
              "#sk-container-id-3 div.sk-toggleable__content pre {\n",
              "  margin: 0.2em;\n",
              "  border-radius: 0.25em;\n",
              "  color: var(--sklearn-color-text);\n",
              "  /* unfitted */\n",
              "  background-color: var(--sklearn-color-unfitted-level-0);\n",
              "}\n",
              "\n",
              "#sk-container-id-3 div.sk-toggleable__content.fitted pre {\n",
              "  /* unfitted */\n",
              "  background-color: var(--sklearn-color-fitted-level-0);\n",
              "}\n",
              "\n",
              "#sk-container-id-3 input.sk-toggleable__control:checked~div.sk-toggleable__content {\n",
              "  /* Expand drop-down */\n",
              "  max-height: 200px;\n",
              "  max-width: 100%;\n",
              "  overflow: auto;\n",
              "}\n",
              "\n",
              "#sk-container-id-3 input.sk-toggleable__control:checked~label.sk-toggleable__label-arrow:before {\n",
              "  content: \"▾\";\n",
              "}\n",
              "\n",
              "/* Pipeline/ColumnTransformer-specific style */\n",
              "\n",
              "#sk-container-id-3 div.sk-label input.sk-toggleable__control:checked~label.sk-toggleable__label {\n",
              "  color: var(--sklearn-color-text);\n",
              "  background-color: var(--sklearn-color-unfitted-level-2);\n",
              "}\n",
              "\n",
              "#sk-container-id-3 div.sk-label.fitted input.sk-toggleable__control:checked~label.sk-toggleable__label {\n",
              "  background-color: var(--sklearn-color-fitted-level-2);\n",
              "}\n",
              "\n",
              "/* Estimator-specific style */\n",
              "\n",
              "/* Colorize estimator box */\n",
              "#sk-container-id-3 div.sk-estimator input.sk-toggleable__control:checked~label.sk-toggleable__label {\n",
              "  /* unfitted */\n",
              "  background-color: var(--sklearn-color-unfitted-level-2);\n",
              "}\n",
              "\n",
              "#sk-container-id-3 div.sk-estimator.fitted input.sk-toggleable__control:checked~label.sk-toggleable__label {\n",
              "  /* fitted */\n",
              "  background-color: var(--sklearn-color-fitted-level-2);\n",
              "}\n",
              "\n",
              "#sk-container-id-3 div.sk-label label.sk-toggleable__label,\n",
              "#sk-container-id-3 div.sk-label label {\n",
              "  /* The background is the default theme color */\n",
              "  color: var(--sklearn-color-text-on-default-background);\n",
              "}\n",
              "\n",
              "/* On hover, darken the color of the background */\n",
              "#sk-container-id-3 div.sk-label:hover label.sk-toggleable__label {\n",
              "  color: var(--sklearn-color-text);\n",
              "  background-color: var(--sklearn-color-unfitted-level-2);\n",
              "}\n",
              "\n",
              "/* Label box, darken color on hover, fitted */\n",
              "#sk-container-id-3 div.sk-label.fitted:hover label.sk-toggleable__label.fitted {\n",
              "  color: var(--sklearn-color-text);\n",
              "  background-color: var(--sklearn-color-fitted-level-2);\n",
              "}\n",
              "\n",
              "/* Estimator label */\n",
              "\n",
              "#sk-container-id-3 div.sk-label label {\n",
              "  font-family: monospace;\n",
              "  font-weight: bold;\n",
              "  display: inline-block;\n",
              "  line-height: 1.2em;\n",
              "}\n",
              "\n",
              "#sk-container-id-3 div.sk-label-container {\n",
              "  text-align: center;\n",
              "}\n",
              "\n",
              "/* Estimator-specific */\n",
              "#sk-container-id-3 div.sk-estimator {\n",
              "  font-family: monospace;\n",
              "  border: 1px dotted var(--sklearn-color-border-box);\n",
              "  border-radius: 0.25em;\n",
              "  box-sizing: border-box;\n",
              "  margin-bottom: 0.5em;\n",
              "  /* unfitted */\n",
              "  background-color: var(--sklearn-color-unfitted-level-0);\n",
              "}\n",
              "\n",
              "#sk-container-id-3 div.sk-estimator.fitted {\n",
              "  /* fitted */\n",
              "  background-color: var(--sklearn-color-fitted-level-0);\n",
              "}\n",
              "\n",
              "/* on hover */\n",
              "#sk-container-id-3 div.sk-estimator:hover {\n",
              "  /* unfitted */\n",
              "  background-color: var(--sklearn-color-unfitted-level-2);\n",
              "}\n",
              "\n",
              "#sk-container-id-3 div.sk-estimator.fitted:hover {\n",
              "  /* fitted */\n",
              "  background-color: var(--sklearn-color-fitted-level-2);\n",
              "}\n",
              "\n",
              "/* Specification for estimator info (e.g. \"i\" and \"?\") */\n",
              "\n",
              "/* Common style for \"i\" and \"?\" */\n",
              "\n",
              ".sk-estimator-doc-link,\n",
              "a:link.sk-estimator-doc-link,\n",
              "a:visited.sk-estimator-doc-link {\n",
              "  float: right;\n",
              "  font-size: smaller;\n",
              "  line-height: 1em;\n",
              "  font-family: monospace;\n",
              "  background-color: var(--sklearn-color-background);\n",
              "  border-radius: 1em;\n",
              "  height: 1em;\n",
              "  width: 1em;\n",
              "  text-decoration: none !important;\n",
              "  margin-left: 0.5em;\n",
              "  text-align: center;\n",
              "  /* unfitted */\n",
              "  border: var(--sklearn-color-unfitted-level-1) 1pt solid;\n",
              "  color: var(--sklearn-color-unfitted-level-1);\n",
              "}\n",
              "\n",
              ".sk-estimator-doc-link.fitted,\n",
              "a:link.sk-estimator-doc-link.fitted,\n",
              "a:visited.sk-estimator-doc-link.fitted {\n",
              "  /* fitted */\n",
              "  border: var(--sklearn-color-fitted-level-1) 1pt solid;\n",
              "  color: var(--sklearn-color-fitted-level-1);\n",
              "}\n",
              "\n",
              "/* On hover */\n",
              "div.sk-estimator:hover .sk-estimator-doc-link:hover,\n",
              ".sk-estimator-doc-link:hover,\n",
              "div.sk-label-container:hover .sk-estimator-doc-link:hover,\n",
              ".sk-estimator-doc-link:hover {\n",
              "  /* unfitted */\n",
              "  background-color: var(--sklearn-color-unfitted-level-3);\n",
              "  color: var(--sklearn-color-background);\n",
              "  text-decoration: none;\n",
              "}\n",
              "\n",
              "div.sk-estimator.fitted:hover .sk-estimator-doc-link.fitted:hover,\n",
              ".sk-estimator-doc-link.fitted:hover,\n",
              "div.sk-label-container:hover .sk-estimator-doc-link.fitted:hover,\n",
              ".sk-estimator-doc-link.fitted:hover {\n",
              "  /* fitted */\n",
              "  background-color: var(--sklearn-color-fitted-level-3);\n",
              "  color: var(--sklearn-color-background);\n",
              "  text-decoration: none;\n",
              "}\n",
              "\n",
              "/* Span, style for the box shown on hovering the info icon */\n",
              ".sk-estimator-doc-link span {\n",
              "  display: none;\n",
              "  z-index: 9999;\n",
              "  position: relative;\n",
              "  font-weight: normal;\n",
              "  right: .2ex;\n",
              "  padding: .5ex;\n",
              "  margin: .5ex;\n",
              "  width: min-content;\n",
              "  min-width: 20ex;\n",
              "  max-width: 50ex;\n",
              "  color: var(--sklearn-color-text);\n",
              "  box-shadow: 2pt 2pt 4pt #999;\n",
              "  /* unfitted */\n",
              "  background: var(--sklearn-color-unfitted-level-0);\n",
              "  border: .5pt solid var(--sklearn-color-unfitted-level-3);\n",
              "}\n",
              "\n",
              ".sk-estimator-doc-link.fitted span {\n",
              "  /* fitted */\n",
              "  background: var(--sklearn-color-fitted-level-0);\n",
              "  border: var(--sklearn-color-fitted-level-3);\n",
              "}\n",
              "\n",
              ".sk-estimator-doc-link:hover span {\n",
              "  display: block;\n",
              "}\n",
              "\n",
              "/* \"?\"-specific style due to the `<a>` HTML tag */\n",
              "\n",
              "#sk-container-id-3 a.estimator_doc_link {\n",
              "  float: right;\n",
              "  font-size: 1rem;\n",
              "  line-height: 1em;\n",
              "  font-family: monospace;\n",
              "  background-color: var(--sklearn-color-background);\n",
              "  border-radius: 1rem;\n",
              "  height: 1rem;\n",
              "  width: 1rem;\n",
              "  text-decoration: none;\n",
              "  /* unfitted */\n",
              "  color: var(--sklearn-color-unfitted-level-1);\n",
              "  border: var(--sklearn-color-unfitted-level-1) 1pt solid;\n",
              "}\n",
              "\n",
              "#sk-container-id-3 a.estimator_doc_link.fitted {\n",
              "  /* fitted */\n",
              "  border: var(--sklearn-color-fitted-level-1) 1pt solid;\n",
              "  color: var(--sklearn-color-fitted-level-1);\n",
              "}\n",
              "\n",
              "/* On hover */\n",
              "#sk-container-id-3 a.estimator_doc_link:hover {\n",
              "  /* unfitted */\n",
              "  background-color: var(--sklearn-color-unfitted-level-3);\n",
              "  color: var(--sklearn-color-background);\n",
              "  text-decoration: none;\n",
              "}\n",
              "\n",
              "#sk-container-id-3 a.estimator_doc_link.fitted:hover {\n",
              "  /* fitted */\n",
              "  background-color: var(--sklearn-color-fitted-level-3);\n",
              "}\n",
              "</style><div id=\"sk-container-id-3\" class=\"sk-top-container\"><div class=\"sk-text-repr-fallback\"><pre>SVC(kernel=&#x27;linear&#x27;)</pre><b>In a Jupyter environment, please rerun this cell to show the HTML representation or trust the notebook. <br />On GitHub, the HTML representation is unable to render, please try loading this page with nbviewer.org.</b></div><div class=\"sk-container\" hidden><div class=\"sk-item\"><div class=\"sk-estimator fitted sk-toggleable\"><input class=\"sk-toggleable__control sk-hidden--visually\" id=\"sk-estimator-id-3\" type=\"checkbox\" checked><label for=\"sk-estimator-id-3\" class=\"sk-toggleable__label fitted sk-toggleable__label-arrow\"><div><div>SVC</div></div><div><a class=\"sk-estimator-doc-link fitted\" rel=\"noreferrer\" target=\"_blank\" href=\"https://scikit-learn.org/1.6/modules/generated/sklearn.svm.SVC.html\">?<span>Documentation for SVC</span></a><span class=\"sk-estimator-doc-link fitted\">i<span>Fitted</span></span></div></label><div class=\"sk-toggleable__content fitted\"><pre>SVC(kernel=&#x27;linear&#x27;)</pre></div> </div></div></div></div>"
            ]
          },
          "metadata": {},
          "execution_count": 23
        }
      ]
    },
    {
      "cell_type": "markdown",
      "source": [
        "###Prediction"
      ],
      "metadata": {
        "id": "oBzjFf4oFb7_"
      }
    },
    {
      "cell_type": "code",
      "source": [
        "y_test = clf.predict(x_test)\n",
        "\n",
        "print(y_test)"
      ],
      "metadata": {
        "colab": {
          "base_uri": "https://localhost:8080/"
        },
        "id": "_pGxvXq7FVmM",
        "outputId": "e2892bb4-85bb-499d-c783-a23374d73a13"
      },
      "execution_count": null,
      "outputs": [
        {
          "output_type": "stream",
          "name": "stdout",
          "text": [
            "['Lao phoi' 'Lao phoi' 'Lao phoi' 'Lao phoi' 'Tien dien tu' 'Tien dien tu'\n",
            " 'Tien dien tu' 'Phan chia te bao' 'Phan chia te bao' 'Phan chia te bao']\n"
          ]
        }
      ]
    },
    {
      "cell_type": "markdown",
      "source": [
        "# Classification with Kmean"
      ],
      "metadata": {
        "id": "KejCBAKIBE_t"
      }
    },
    {
      "cell_type": "markdown",
      "source": [
        "###Training"
      ],
      "metadata": {
        "id": "iKACl4mADgmg"
      }
    },
    {
      "cell_type": "code",
      "source": [
        "Kmean = KMeans(n_clusters = 3, n_init = 10, random_state = 42)\n",
        "\n",
        "Kmean.fit_transform(x_train.toarray())"
      ],
      "metadata": {
        "colab": {
          "base_uri": "https://localhost:8080/"
        },
        "id": "sugJIbqvBJEc",
        "outputId": "3b33f615-cd26-40c1-9311-1c710c6a6077"
      },
      "execution_count": null,
      "outputs": [
        {
          "output_type": "execute_result",
          "data": {
            "text/plain": [
              "array([[1.30919074, 1.31191397, 0.52820752],\n",
              "       [1.30919074, 1.33160188, 0.52820752],\n",
              "       [0.53480801, 1.34394918, 1.31186768],\n",
              "       [0.53480801, 1.34394918, 1.31186768],\n",
              "       [1.30919074, 0.4402279 , 1.28765465],\n",
              "       [1.30919074, 0.4402279 , 1.29066733]])"
            ]
          },
          "metadata": {},
          "execution_count": 27
        }
      ]
    },
    {
      "cell_type": "code",
      "source": [
        "y_train = Kmean.labels_\n",
        "\n",
        "print(y_train)"
      ],
      "metadata": {
        "colab": {
          "base_uri": "https://localhost:8080/"
        },
        "id": "evc--sE8D5CQ",
        "outputId": "81dee574-519c-431b-8999-0d54ca3aebdf"
      },
      "execution_count": null,
      "outputs": [
        {
          "output_type": "stream",
          "name": "stdout",
          "text": [
            "[2 2 0 0 1 1]\n"
          ]
        }
      ]
    },
    {
      "cell_type": "code",
      "source": [
        "y_test = Kmean.predict(x_test.toarray())\n",
        "\n",
        "print(y_test)"
      ],
      "metadata": {
        "colab": {
          "base_uri": "https://localhost:8080/"
        },
        "id": "oCPGyX4vJ818",
        "outputId": "17702228-04c0-4dd0-86a4-4c78cfa669fc"
      },
      "execution_count": null,
      "outputs": [
        {
          "output_type": "stream",
          "name": "stdout",
          "text": [
            "[2 2 2 2 0 0 0 1 1 1]\n"
          ]
        }
      ]
    },
    {
      "cell_type": "markdown",
      "source": [
        "# Cả 2 mô hình phân loại đều cho ra kết quả giống nhau"
      ],
      "metadata": {
        "id": "VAL18nk0LVNH"
      }
    },
    {
      "cell_type": "code",
      "source": [],
      "metadata": {
        "id": "_4hFlJSDKb0x"
      },
      "execution_count": null,
      "outputs": []
    }
  ]
}